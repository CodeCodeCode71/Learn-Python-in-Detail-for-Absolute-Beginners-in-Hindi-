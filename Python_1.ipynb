{
  "nbformat": 4,
  "nbformat_minor": 0,
  "metadata": {
    "colab": {
      "provenance": [],
      "authorship_tag": "ABX9TyNWorceyxkWAQCrHECHUa6i"
    },
    "kernelspec": {
      "name": "python3",
      "display_name": "Python 3"
    },
    "language_info": {
      "name": "python"
    }
  },
  "cells": [
    {
      "cell_type": "markdown",
      "source": [
        "#Python Introduction and Basics\n",
        "\n",
        "#### Interpreter vs Compiler\n",
        "#### print method - end, sep, flush, file\n",
        "#### Comments - single line comment, multiline comment\n",
        "#### Strings -\n",
        "\n",
        "1.   Anything inside quotes(single quotes, double quotes, triple quotes)\n",
        "2.   triple quoted string works as a string or as a multiline comment\n",
        "\n",
        "\n",
        "\n",
        "\n",
        "\n",
        "\n"
      ],
      "metadata": {
        "id": "h0ZW4grCDnBA"
      }
    },
    {
      "cell_type": "code",
      "source": [
        "print(\"hello world\") #first program"
      ],
      "metadata": {
        "colab": {
          "base_uri": "https://localhost:8080/"
        },
        "id": "7qOeQNHz_4ZP",
        "outputId": "5c9d38a2-fd7d-4a0a-911c-9f4e11def36c"
      },
      "execution_count": null,
      "outputs": [
        {
          "output_type": "stream",
          "name": "stdout",
          "text": [
            "hello world\n"
          ]
        }
      ]
    },
    {
      "cell_type": "code",
      "source": [
        "!python --version #terminal command to check python version on google colab"
      ],
      "metadata": {
        "colab": {
          "base_uri": "https://localhost:8080/"
        },
        "id": "Tlwa-tr-BbjO",
        "outputId": "9b526533-14ec-476b-8483-a85746426c69"
      },
      "execution_count": null,
      "outputs": [
        {
          "output_type": "stream",
          "name": "stdout",
          "text": [
            "Python 3.10.12\n"
          ]
        }
      ]
    },
    {
      "cell_type": "code",
      "source": [
        "#Interpreter vs Compiler\n",
        "\n",
        "#Interpreter - line by line translation\n",
        "#compiler - all program at once\n",
        "\n",
        "\n",
        "#python - interpreter language\n",
        "#Clanguage - compiler language\n"
      ],
      "metadata": {
        "id": "oCfFaIc6EVAx"
      },
      "execution_count": null,
      "outputs": []
    },
    {
      "cell_type": "code",
      "source": [
        "print(\"Hello\")\n"
      ],
      "metadata": {
        "colab": {
          "base_uri": "https://localhost:8080/"
        },
        "id": "q1hxVIpyFTuY",
        "outputId": "7a8c7798-f736-4dae-e27f-14b59b4c59e1"
      },
      "execution_count": null,
      "outputs": [
        {
          "output_type": "stream",
          "name": "stdout",
          "text": [
            "Hello\n",
            "9\n",
            "bye\n"
          ]
        }
      ]
    },
    {
      "cell_type": "code",
      "source": [
        "print(\"Hello\" + \"Hi\" + \"bye\")\n",
        "print(\"hi\")\n",
        "\n",
        "\n"
      ],
      "metadata": {
        "colab": {
          "base_uri": "https://localhost:8080/"
        },
        "id": "1__kuDMRGlBr",
        "outputId": "b9d2f501-5a19-46b9-e2ae-3505595cc978"
      },
      "execution_count": null,
      "outputs": [
        {
          "output_type": "stream",
          "name": "stdout",
          "text": [
            "HelloHibye\n",
            "hi\n"
          ]
        }
      ]
    },
    {
      "cell_type": "code",
      "source": [
        "print(\"What is your name?\", end=\" \") #this is a comment\n",
        "\n",
        "#Here this string is workings as a mulitline comment\n",
        "\"\"\"this is\n",
        "multiline\n",
        "commment\"\"\"\n",
        "\n",
        "print(\"Adam\")\n"
      ],
      "metadata": {
        "colab": {
          "base_uri": "https://localhost:8080/"
        },
        "id": "SvlatZvLGumR",
        "outputId": "c824786e-2d38-4f7e-bb56-e3c99a3f6646"
      },
      "execution_count": null,
      "outputs": [
        {
          "output_type": "stream",
          "name": "stdout",
          "text": [
            "What is your name? Adam\n"
          ]
        }
      ]
    },
    {
      "cell_type": "code",
      "source": [
        "# Here this string is working as proper string\n",
        "\"\"\"this is\n",
        "multiline\n",
        "commment\"\"\""
      ],
      "metadata": {
        "colab": {
          "base_uri": "https://localhost:8080/",
          "height": 35
        },
        "id": "siNolXsbN2KG",
        "outputId": "a7f667fd-9a91-4e61-994d-be3de63dce7d"
      },
      "execution_count": null,
      "outputs": [
        {
          "output_type": "execute_result",
          "data": {
            "text/plain": [
              "'this is \\nmultiline\\ncommment'"
            ],
            "application/vnd.google.colaboratory.intrinsic+json": {
              "type": "string"
            }
          },
          "metadata": {},
          "execution_count": 84
        }
      ]
    },
    {
      "cell_type": "code",
      "source": [
        "\"hi\" #string"
      ],
      "metadata": {
        "colab": {
          "base_uri": "https://localhost:8080/",
          "height": 35
        },
        "id": "E49zS6qqPRzh",
        "outputId": "c564a84c-9251-4794-c443-27ba5b0add28"
      },
      "execution_count": null,
      "outputs": [
        {
          "output_type": "execute_result",
          "data": {
            "text/plain": [
              "'hi'"
            ],
            "application/vnd.google.colaboratory.intrinsic+json": {
              "type": "string"
            }
          },
          "metadata": {},
          "execution_count": 85
        }
      ]
    },
    {
      "cell_type": "code",
      "source": [
        "print('hi') #single quotes\n",
        "print(\"bye\") #double quotes\n",
        "print('''see you''') #single triple quotes or triple single quotes\n",
        "print(\"\"\"again\"\"\")  #double triple quotes or triple double quotes"
      ],
      "metadata": {
        "colab": {
          "base_uri": "https://localhost:8080/"
        },
        "id": "ZjwS_9wZPbM5",
        "outputId": "81ba931b-00e1-49c9-c5d2-6b6663fb5829"
      },
      "execution_count": null,
      "outputs": [
        {
          "output_type": "stream",
          "name": "stdout",
          "text": [
            "hi\n",
            "bye\n",
            "see you\n",
            "again\n"
          ]
        }
      ]
    },
    {
      "cell_type": "code",
      "source": [
        "34+23 #numbers - integers (int)"
      ],
      "metadata": {
        "colab": {
          "base_uri": "https://localhost:8080/"
        },
        "id": "fMneSYe8R8v7",
        "outputId": "209a074f-f5e5-4766-b452-4e96e0f9251b"
      },
      "execution_count": null,
      "outputs": [
        {
          "output_type": "execute_result",
          "data": {
            "text/plain": [
              "57"
            ]
          },
          "metadata": {},
          "execution_count": 95
        }
      ]
    },
    {
      "cell_type": "code",
      "source": [
        "print(34+\"12\")"
      ],
      "metadata": {
        "colab": {
          "base_uri": "https://localhost:8080/",
          "height": 177
        },
        "id": "OZyUANHfSI56",
        "outputId": "fdc261da-04f7-44ce-f77f-47d3aa2bfc51"
      },
      "execution_count": null,
      "outputs": [
        {
          "output_type": "error",
          "ename": "TypeError",
          "evalue": "ignored",
          "traceback": [
            "\u001b[0;31m---------------------------------------------------------------------------\u001b[0m",
            "\u001b[0;31mTypeError\u001b[0m                                 Traceback (most recent call last)",
            "\u001b[0;32m<ipython-input-97-9e21db756538>\u001b[0m in \u001b[0;36m<cell line: 1>\u001b[0;34m()\u001b[0m\n\u001b[0;32m----> 1\u001b[0;31m \u001b[0mprint\u001b[0m\u001b[0;34m(\u001b[0m\u001b[0;36m34\u001b[0m\u001b[0;34m+\u001b[0m\u001b[0;34m\"12\"\u001b[0m\u001b[0;34m)\u001b[0m\u001b[0;34m\u001b[0m\u001b[0;34m\u001b[0m\u001b[0m\n\u001b[0m",
            "\u001b[0;31mTypeError\u001b[0m: unsupported operand type(s) for +: 'int' and 'str'"
          ]
        }
      ]
    },
    {
      "cell_type": "code",
      "source": [
        "print(\"34\"+\"43\")"
      ],
      "metadata": {
        "colab": {
          "base_uri": "https://localhost:8080/"
        },
        "id": "4CHu84g2SY4N",
        "outputId": "34076aae-8a62-4cea-e0fa-6edc84004618"
      },
      "execution_count": null,
      "outputs": [
        {
          "output_type": "stream",
          "name": "stdout",
          "text": [
            "3443\n"
          ]
        }
      ]
    },
    {
      "cell_type": "code",
      "source": [
        "print(45+23)"
      ],
      "metadata": {
        "id": "ILtrEWmrSkrS",
        "outputId": "f1556dac-2f0f-4406-e31f-ccd47f4b838f",
        "colab": {
          "base_uri": "https://localhost:8080/"
        }
      },
      "execution_count": null,
      "outputs": [
        {
          "output_type": "stream",
          "name": "stdout",
          "text": [
            "68\n"
          ]
        }
      ]
    }
  ]
}